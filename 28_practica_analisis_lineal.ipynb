{
  "nbformat": 4,
  "nbformat_minor": 0,
  "metadata": {
    "colab": {
      "provenance": [],
      "authorship_tag": "ABX9TyMFTwf3zspqSNcj1xFt3i6o",
      "include_colab_link": true
    },
    "kernelspec": {
      "name": "python3",
      "display_name": "Python 3"
    },
    "language_info": {
      "name": "python"
    }
  },
  "cells": [
    {
      "cell_type": "markdown",
      "metadata": {
        "id": "view-in-github",
        "colab_type": "text"
      },
      "source": [
        "<a href=\"https://colab.research.google.com/github/dalatorrem/Diplomado_Metodos_UCentral_2023/blob/main/28_practica_analisis_lineal.ipynb\" target=\"_parent\"><img src=\"https://colab.research.google.com/assets/colab-badge.svg\" alt=\"Open In Colab\"/></a>"
      ]
    },
    {
      "cell_type": "markdown",
      "source": [
        "#Modelo de predicción del puntaje en la prueba saber 11"
      ],
      "metadata": {
        "id": "EJtulg6R98xc"
      }
    },
    {
      "cell_type": "markdown",
      "source": [
        "Contexto Analítico: construir un modelo lineal que teniendo como variables de entrada variables sociodemográficas nos permita dar una predicción del puntaje global.\n"
      ],
      "metadata": {
        "id": "jCNonMOG-JcT"
      }
    },
    {
      "cell_type": "code",
      "execution_count": 1,
      "metadata": {
        "id": "SQ4eKkzI92zT"
      },
      "outputs": [],
      "source": [
        "import pandas                   as pd\n",
        "import numpy                    as np\n",
        "import matplotlib.pyplot        as plt\n",
        "import seaborn                  as sns\n",
        "from   scipy                    import stats\n",
        "import statsmodels.formula.api  as smf\n",
        "import scipy\n",
        "import warnings\n",
        "from sklearn.model_selection    import train_test_split\n",
        "from sklearn.linear_model       import LinearRegression\n",
        "from sklearn.metrics            import mean_squared_error, mean_absolute_error\n",
        "from sklearn.metrics            import mean_absolute_percentage_error\n",
        "import plotly.express as px"
      ]
    },
    {
      "cell_type": "code",
      "source": [
        "path_data = 'https://raw.githubusercontent.com/dalatorrem/Diplomado_Metodos_UCentral_2023/main/data/Resultados__nicos_Saber_11_sample.csv'\n",
        "data_saber = pd.read_csv(path_data)\n",
        "data_saber"
      ],
      "metadata": {
        "colab": {
          "base_uri": "https://localhost:8080/",
          "height": 461
        },
        "id": "UAThnFfb-lnM",
        "outputId": "6bdf93d3-bfac-4ace-eada-aa53f939c66f"
      },
      "execution_count": 2,
      "outputs": [
        {
          "output_type": "execute_result",
          "data": {
            "text/plain": [
              "      Unnamed: 0  PERIODO ESTU_TIPODOCUMENTO  ESTU_CONSECUTIVO  \\\n",
              "0              0    20131                 CR  SB11201310000414   \n",
              "1              1    20194                 TI  SB11201940464873   \n",
              "2              2    20194                 TI  SB11201940464873   \n",
              "3              3    20122                 TI  SB11201220204399   \n",
              "4              4    20132                 TI  SB11201320464198   \n",
              "...          ...      ...                ...               ...   \n",
              "9995        9995    20162                 TI  SB11201620287491   \n",
              "9996        9996    20132                 TI  SB11201320276289   \n",
              "9997        9997    20194                 TI  SB11201940202131   \n",
              "9998        9998    20194                 TI  SB11201940202131   \n",
              "9999        9999    20172                 TI  SB11201720343405   \n",
              "\n",
              "     COLE_AREA_UBICACION COLE_BILINGUE COLE_CALENDARIO      COLE_CARACTER  \\\n",
              "0                 URBANO             N               B          ACADÉMICO   \n",
              "1                  RURAL             N               A  TÉCNICO/ACADÉMICO   \n",
              "2                  RURAL             N               A  TÉCNICO/ACADÉMICO   \n",
              "3                 URBANO             N               A  TÉCNICO/ACADÉMICO   \n",
              "4                 URBANO             N               A            TÉCNICO   \n",
              "...                  ...           ...             ...                ...   \n",
              "9995               RURAL           NaN               A          ACADÉMICO   \n",
              "9996              URBANO             N               A  TÉCNICO/ACADÉMICO   \n",
              "9997               RURAL             N               A          ACADÉMICO   \n",
              "9998               RURAL             N               A          ACADÉMICO   \n",
              "9999              URBANO             N               A  TÉCNICO/ACADÉMICO   \n",
              "\n",
              "      COLE_COD_DANE_ESTABLECIMIENTO  COLE_COD_DANE_SEDE  ...  \\\n",
              "0                      3.118480e+11        3.118480e+11  ...   \n",
              "1                      1.410160e+11        2.410160e+11  ...   \n",
              "2                      1.410160e+11        2.410160e+11  ...   \n",
              "3                      1.631300e+11        1.631300e+11  ...   \n",
              "4                      1.190010e+11        1.190010e+11  ...   \n",
              "...                             ...                 ...  ...   \n",
              "9995                   2.687200e+11        2.687200e+11  ...   \n",
              "9996                   2.470010e+11        2.470010e+11  ...   \n",
              "9997                   2.735040e+11        2.735040e+11  ...   \n",
              "9998                   2.735040e+11        2.735040e+11  ...   \n",
              "9999                   1.130010e+11        1.130010e+11  ...   \n",
              "\n",
              "      FAMI_TIENECOMPUTADOR  FAMI_TIENEINTERNET  FAMI_TIENELAVADORA  \\\n",
              "0                       Si                  Si                  Si   \n",
              "1                       Si                  Si                  Si   \n",
              "2                       Si                  Si                  Si   \n",
              "3                       Si                  Si                  No   \n",
              "4                       Si                  Si                  Si   \n",
              "...                    ...                 ...                 ...   \n",
              "9995                    No                  No                  No   \n",
              "9996                    Si                  Si                  No   \n",
              "9997                    No                  No                  No   \n",
              "9998                    No                  No                  No   \n",
              "9999                    No                  Si                  Si   \n",
              "\n",
              "     DESEMP_INGLES PUNT_INGLES PUNT_MATEMATICAS PUNT_SOCIALES_CIUDADANAS  \\\n",
              "0               B+        94.0             88.0                      NaN   \n",
              "1               B1        71.0             66.0                     70.0   \n",
              "2               B1        71.0             66.0                     70.0   \n",
              "3               A1        48.0             45.0                      NaN   \n",
              "4               A-        43.0             52.0                      NaN   \n",
              "...            ...         ...              ...                      ...   \n",
              "9995            A1        55.0             50.0                     57.0   \n",
              "9996            A-        39.0             57.0                      NaN   \n",
              "9997            A-        36.0             36.0                     52.0   \n",
              "9998            A-        36.0             36.0                     52.0   \n",
              "9999            A2        59.0             63.0                     70.0   \n",
              "\n",
              "     PUNT_C_NATURALES PUNT_LECTURA_CRITICA PUNT_GLOBAL  \n",
              "0                 NaN                  NaN         NaN  \n",
              "1                65.0                 69.0       339.0  \n",
              "2                65.0                 69.0       339.0  \n",
              "3                 NaN                  NaN         NaN  \n",
              "4                 NaN                  NaN         NaN  \n",
              "...               ...                  ...         ...  \n",
              "9995             48.0                 53.0       262.0  \n",
              "9996              NaN                  NaN         NaN  \n",
              "9997             51.0                 55.0       238.0  \n",
              "9998             51.0                 55.0       238.0  \n",
              "9999             72.0                 70.0       340.0  \n",
              "\n",
              "[10000 rows x 52 columns]"
            ],
            "text/html": [
              "\n",
              "  <div id=\"df-c91ba55e-27bf-4973-866d-3d845bf1534b\" class=\"colab-df-container\">\n",
              "    <div>\n",
              "<style scoped>\n",
              "    .dataframe tbody tr th:only-of-type {\n",
              "        vertical-align: middle;\n",
              "    }\n",
              "\n",
              "    .dataframe tbody tr th {\n",
              "        vertical-align: top;\n",
              "    }\n",
              "\n",
              "    .dataframe thead th {\n",
              "        text-align: right;\n",
              "    }\n",
              "</style>\n",
              "<table border=\"1\" class=\"dataframe\">\n",
              "  <thead>\n",
              "    <tr style=\"text-align: right;\">\n",
              "      <th></th>\n",
              "      <th>Unnamed: 0</th>\n",
              "      <th>PERIODO</th>\n",
              "      <th>ESTU_TIPODOCUMENTO</th>\n",
              "      <th>ESTU_CONSECUTIVO</th>\n",
              "      <th>COLE_AREA_UBICACION</th>\n",
              "      <th>COLE_BILINGUE</th>\n",
              "      <th>COLE_CALENDARIO</th>\n",
              "      <th>COLE_CARACTER</th>\n",
              "      <th>COLE_COD_DANE_ESTABLECIMIENTO</th>\n",
              "      <th>COLE_COD_DANE_SEDE</th>\n",
              "      <th>...</th>\n",
              "      <th>FAMI_TIENECOMPUTADOR</th>\n",
              "      <th>FAMI_TIENEINTERNET</th>\n",
              "      <th>FAMI_TIENELAVADORA</th>\n",
              "      <th>DESEMP_INGLES</th>\n",
              "      <th>PUNT_INGLES</th>\n",
              "      <th>PUNT_MATEMATICAS</th>\n",
              "      <th>PUNT_SOCIALES_CIUDADANAS</th>\n",
              "      <th>PUNT_C_NATURALES</th>\n",
              "      <th>PUNT_LECTURA_CRITICA</th>\n",
              "      <th>PUNT_GLOBAL</th>\n",
              "    </tr>\n",
              "  </thead>\n",
              "  <tbody>\n",
              "    <tr>\n",
              "      <th>0</th>\n",
              "      <td>0</td>\n",
              "      <td>20131</td>\n",
              "      <td>CR</td>\n",
              "      <td>SB11201310000414</td>\n",
              "      <td>URBANO</td>\n",
              "      <td>N</td>\n",
              "      <td>B</td>\n",
              "      <td>ACADÉMICO</td>\n",
              "      <td>3.118480e+11</td>\n",
              "      <td>3.118480e+11</td>\n",
              "      <td>...</td>\n",
              "      <td>Si</td>\n",
              "      <td>Si</td>\n",
              "      <td>Si</td>\n",
              "      <td>B+</td>\n",
              "      <td>94.0</td>\n",
              "      <td>88.0</td>\n",
              "      <td>NaN</td>\n",
              "      <td>NaN</td>\n",
              "      <td>NaN</td>\n",
              "      <td>NaN</td>\n",
              "    </tr>\n",
              "    <tr>\n",
              "      <th>1</th>\n",
              "      <td>1</td>\n",
              "      <td>20194</td>\n",
              "      <td>TI</td>\n",
              "      <td>SB11201940464873</td>\n",
              "      <td>RURAL</td>\n",
              "      <td>N</td>\n",
              "      <td>A</td>\n",
              "      <td>TÉCNICO/ACADÉMICO</td>\n",
              "      <td>1.410160e+11</td>\n",
              "      <td>2.410160e+11</td>\n",
              "      <td>...</td>\n",
              "      <td>Si</td>\n",
              "      <td>Si</td>\n",
              "      <td>Si</td>\n",
              "      <td>B1</td>\n",
              "      <td>71.0</td>\n",
              "      <td>66.0</td>\n",
              "      <td>70.0</td>\n",
              "      <td>65.0</td>\n",
              "      <td>69.0</td>\n",
              "      <td>339.0</td>\n",
              "    </tr>\n",
              "    <tr>\n",
              "      <th>2</th>\n",
              "      <td>2</td>\n",
              "      <td>20194</td>\n",
              "      <td>TI</td>\n",
              "      <td>SB11201940464873</td>\n",
              "      <td>RURAL</td>\n",
              "      <td>N</td>\n",
              "      <td>A</td>\n",
              "      <td>TÉCNICO/ACADÉMICO</td>\n",
              "      <td>1.410160e+11</td>\n",
              "      <td>2.410160e+11</td>\n",
              "      <td>...</td>\n",
              "      <td>Si</td>\n",
              "      <td>Si</td>\n",
              "      <td>Si</td>\n",
              "      <td>B1</td>\n",
              "      <td>71.0</td>\n",
              "      <td>66.0</td>\n",
              "      <td>70.0</td>\n",
              "      <td>65.0</td>\n",
              "      <td>69.0</td>\n",
              "      <td>339.0</td>\n",
              "    </tr>\n",
              "    <tr>\n",
              "      <th>3</th>\n",
              "      <td>3</td>\n",
              "      <td>20122</td>\n",
              "      <td>TI</td>\n",
              "      <td>SB11201220204399</td>\n",
              "      <td>URBANO</td>\n",
              "      <td>N</td>\n",
              "      <td>A</td>\n",
              "      <td>TÉCNICO/ACADÉMICO</td>\n",
              "      <td>1.631300e+11</td>\n",
              "      <td>1.631300e+11</td>\n",
              "      <td>...</td>\n",
              "      <td>Si</td>\n",
              "      <td>Si</td>\n",
              "      <td>No</td>\n",
              "      <td>A1</td>\n",
              "      <td>48.0</td>\n",
              "      <td>45.0</td>\n",
              "      <td>NaN</td>\n",
              "      <td>NaN</td>\n",
              "      <td>NaN</td>\n",
              "      <td>NaN</td>\n",
              "    </tr>\n",
              "    <tr>\n",
              "      <th>4</th>\n",
              "      <td>4</td>\n",
              "      <td>20132</td>\n",
              "      <td>TI</td>\n",
              "      <td>SB11201320464198</td>\n",
              "      <td>URBANO</td>\n",
              "      <td>N</td>\n",
              "      <td>A</td>\n",
              "      <td>TÉCNICO</td>\n",
              "      <td>1.190010e+11</td>\n",
              "      <td>1.190010e+11</td>\n",
              "      <td>...</td>\n",
              "      <td>Si</td>\n",
              "      <td>Si</td>\n",
              "      <td>Si</td>\n",
              "      <td>A-</td>\n",
              "      <td>43.0</td>\n",
              "      <td>52.0</td>\n",
              "      <td>NaN</td>\n",
              "      <td>NaN</td>\n",
              "      <td>NaN</td>\n",
              "      <td>NaN</td>\n",
              "    </tr>\n",
              "    <tr>\n",
              "      <th>...</th>\n",
              "      <td>...</td>\n",
              "      <td>...</td>\n",
              "      <td>...</td>\n",
              "      <td>...</td>\n",
              "      <td>...</td>\n",
              "      <td>...</td>\n",
              "      <td>...</td>\n",
              "      <td>...</td>\n",
              "      <td>...</td>\n",
              "      <td>...</td>\n",
              "      <td>...</td>\n",
              "      <td>...</td>\n",
              "      <td>...</td>\n",
              "      <td>...</td>\n",
              "      <td>...</td>\n",
              "      <td>...</td>\n",
              "      <td>...</td>\n",
              "      <td>...</td>\n",
              "      <td>...</td>\n",
              "      <td>...</td>\n",
              "      <td>...</td>\n",
              "    </tr>\n",
              "    <tr>\n",
              "      <th>9995</th>\n",
              "      <td>9995</td>\n",
              "      <td>20162</td>\n",
              "      <td>TI</td>\n",
              "      <td>SB11201620287491</td>\n",
              "      <td>RURAL</td>\n",
              "      <td>NaN</td>\n",
              "      <td>A</td>\n",
              "      <td>ACADÉMICO</td>\n",
              "      <td>2.687200e+11</td>\n",
              "      <td>2.687200e+11</td>\n",
              "      <td>...</td>\n",
              "      <td>No</td>\n",
              "      <td>No</td>\n",
              "      <td>No</td>\n",
              "      <td>A1</td>\n",
              "      <td>55.0</td>\n",
              "      <td>50.0</td>\n",
              "      <td>57.0</td>\n",
              "      <td>48.0</td>\n",
              "      <td>53.0</td>\n",
              "      <td>262.0</td>\n",
              "    </tr>\n",
              "    <tr>\n",
              "      <th>9996</th>\n",
              "      <td>9996</td>\n",
              "      <td>20132</td>\n",
              "      <td>TI</td>\n",
              "      <td>SB11201320276289</td>\n",
              "      <td>URBANO</td>\n",
              "      <td>N</td>\n",
              "      <td>A</td>\n",
              "      <td>TÉCNICO/ACADÉMICO</td>\n",
              "      <td>2.470010e+11</td>\n",
              "      <td>2.470010e+11</td>\n",
              "      <td>...</td>\n",
              "      <td>Si</td>\n",
              "      <td>Si</td>\n",
              "      <td>No</td>\n",
              "      <td>A-</td>\n",
              "      <td>39.0</td>\n",
              "      <td>57.0</td>\n",
              "      <td>NaN</td>\n",
              "      <td>NaN</td>\n",
              "      <td>NaN</td>\n",
              "      <td>NaN</td>\n",
              "    </tr>\n",
              "    <tr>\n",
              "      <th>9997</th>\n",
              "      <td>9997</td>\n",
              "      <td>20194</td>\n",
              "      <td>TI</td>\n",
              "      <td>SB11201940202131</td>\n",
              "      <td>RURAL</td>\n",
              "      <td>N</td>\n",
              "      <td>A</td>\n",
              "      <td>ACADÉMICO</td>\n",
              "      <td>2.735040e+11</td>\n",
              "      <td>2.735040e+11</td>\n",
              "      <td>...</td>\n",
              "      <td>No</td>\n",
              "      <td>No</td>\n",
              "      <td>No</td>\n",
              "      <td>A-</td>\n",
              "      <td>36.0</td>\n",
              "      <td>36.0</td>\n",
              "      <td>52.0</td>\n",
              "      <td>51.0</td>\n",
              "      <td>55.0</td>\n",
              "      <td>238.0</td>\n",
              "    </tr>\n",
              "    <tr>\n",
              "      <th>9998</th>\n",
              "      <td>9998</td>\n",
              "      <td>20194</td>\n",
              "      <td>TI</td>\n",
              "      <td>SB11201940202131</td>\n",
              "      <td>RURAL</td>\n",
              "      <td>N</td>\n",
              "      <td>A</td>\n",
              "      <td>ACADÉMICO</td>\n",
              "      <td>2.735040e+11</td>\n",
              "      <td>2.735040e+11</td>\n",
              "      <td>...</td>\n",
              "      <td>No</td>\n",
              "      <td>No</td>\n",
              "      <td>No</td>\n",
              "      <td>A-</td>\n",
              "      <td>36.0</td>\n",
              "      <td>36.0</td>\n",
              "      <td>52.0</td>\n",
              "      <td>51.0</td>\n",
              "      <td>55.0</td>\n",
              "      <td>238.0</td>\n",
              "    </tr>\n",
              "    <tr>\n",
              "      <th>9999</th>\n",
              "      <td>9999</td>\n",
              "      <td>20172</td>\n",
              "      <td>TI</td>\n",
              "      <td>SB11201720343405</td>\n",
              "      <td>URBANO</td>\n",
              "      <td>N</td>\n",
              "      <td>A</td>\n",
              "      <td>TÉCNICO/ACADÉMICO</td>\n",
              "      <td>1.130010e+11</td>\n",
              "      <td>1.130010e+11</td>\n",
              "      <td>...</td>\n",
              "      <td>No</td>\n",
              "      <td>Si</td>\n",
              "      <td>Si</td>\n",
              "      <td>A2</td>\n",
              "      <td>59.0</td>\n",
              "      <td>63.0</td>\n",
              "      <td>70.0</td>\n",
              "      <td>72.0</td>\n",
              "      <td>70.0</td>\n",
              "      <td>340.0</td>\n",
              "    </tr>\n",
              "  </tbody>\n",
              "</table>\n",
              "<p>10000 rows × 52 columns</p>\n",
              "</div>\n",
              "    <div class=\"colab-df-buttons\">\n",
              "\n",
              "  <div class=\"colab-df-container\">\n",
              "    <button class=\"colab-df-convert\" onclick=\"convertToInteractive('df-c91ba55e-27bf-4973-866d-3d845bf1534b')\"\n",
              "            title=\"Convert this dataframe to an interactive table.\"\n",
              "            style=\"display:none;\">\n",
              "\n",
              "  <svg xmlns=\"http://www.w3.org/2000/svg\" height=\"24px\" viewBox=\"0 -960 960 960\">\n",
              "    <path d=\"M120-120v-720h720v720H120Zm60-500h600v-160H180v160Zm220 220h160v-160H400v160Zm0 220h160v-160H400v160ZM180-400h160v-160H180v160Zm440 0h160v-160H620v160ZM180-180h160v-160H180v160Zm440 0h160v-160H620v160Z\"/>\n",
              "  </svg>\n",
              "    </button>\n",
              "\n",
              "  <style>\n",
              "    .colab-df-container {\n",
              "      display:flex;\n",
              "      gap: 12px;\n",
              "    }\n",
              "\n",
              "    .colab-df-convert {\n",
              "      background-color: #E8F0FE;\n",
              "      border: none;\n",
              "      border-radius: 50%;\n",
              "      cursor: pointer;\n",
              "      display: none;\n",
              "      fill: #1967D2;\n",
              "      height: 32px;\n",
              "      padding: 0 0 0 0;\n",
              "      width: 32px;\n",
              "    }\n",
              "\n",
              "    .colab-df-convert:hover {\n",
              "      background-color: #E2EBFA;\n",
              "      box-shadow: 0px 1px 2px rgba(60, 64, 67, 0.3), 0px 1px 3px 1px rgba(60, 64, 67, 0.15);\n",
              "      fill: #174EA6;\n",
              "    }\n",
              "\n",
              "    .colab-df-buttons div {\n",
              "      margin-bottom: 4px;\n",
              "    }\n",
              "\n",
              "    [theme=dark] .colab-df-convert {\n",
              "      background-color: #3B4455;\n",
              "      fill: #D2E3FC;\n",
              "    }\n",
              "\n",
              "    [theme=dark] .colab-df-convert:hover {\n",
              "      background-color: #434B5C;\n",
              "      box-shadow: 0px 1px 3px 1px rgba(0, 0, 0, 0.15);\n",
              "      filter: drop-shadow(0px 1px 2px rgba(0, 0, 0, 0.3));\n",
              "      fill: #FFFFFF;\n",
              "    }\n",
              "  </style>\n",
              "\n",
              "    <script>\n",
              "      const buttonEl =\n",
              "        document.querySelector('#df-c91ba55e-27bf-4973-866d-3d845bf1534b button.colab-df-convert');\n",
              "      buttonEl.style.display =\n",
              "        google.colab.kernel.accessAllowed ? 'block' : 'none';\n",
              "\n",
              "      async function convertToInteractive(key) {\n",
              "        const element = document.querySelector('#df-c91ba55e-27bf-4973-866d-3d845bf1534b');\n",
              "        const dataTable =\n",
              "          await google.colab.kernel.invokeFunction('convertToInteractive',\n",
              "                                                    [key], {});\n",
              "        if (!dataTable) return;\n",
              "\n",
              "        const docLinkHtml = 'Like what you see? Visit the ' +\n",
              "          '<a target=\"_blank\" href=https://colab.research.google.com/notebooks/data_table.ipynb>data table notebook</a>'\n",
              "          + ' to learn more about interactive tables.';\n",
              "        element.innerHTML = '';\n",
              "        dataTable['output_type'] = 'display_data';\n",
              "        await google.colab.output.renderOutput(dataTable, element);\n",
              "        const docLink = document.createElement('div');\n",
              "        docLink.innerHTML = docLinkHtml;\n",
              "        element.appendChild(docLink);\n",
              "      }\n",
              "    </script>\n",
              "  </div>\n",
              "\n",
              "\n",
              "<div id=\"df-0316aa4a-74c9-4ed1-ad4d-3c6af1c75f21\">\n",
              "  <button class=\"colab-df-quickchart\" onclick=\"quickchart('df-0316aa4a-74c9-4ed1-ad4d-3c6af1c75f21')\"\n",
              "            title=\"Suggest charts.\"\n",
              "            style=\"display:none;\">\n",
              "\n",
              "<svg xmlns=\"http://www.w3.org/2000/svg\" height=\"24px\"viewBox=\"0 0 24 24\"\n",
              "     width=\"24px\">\n",
              "    <g>\n",
              "        <path d=\"M19 3H5c-1.1 0-2 .9-2 2v14c0 1.1.9 2 2 2h14c1.1 0 2-.9 2-2V5c0-1.1-.9-2-2-2zM9 17H7v-7h2v7zm4 0h-2V7h2v10zm4 0h-2v-4h2v4z\"/>\n",
              "    </g>\n",
              "</svg>\n",
              "  </button>\n",
              "\n",
              "<style>\n",
              "  .colab-df-quickchart {\n",
              "    background-color: #E8F0FE;\n",
              "    border: none;\n",
              "    border-radius: 50%;\n",
              "    cursor: pointer;\n",
              "    display: none;\n",
              "    fill: #1967D2;\n",
              "    height: 32px;\n",
              "    padding: 0 0 0 0;\n",
              "    width: 32px;\n",
              "  }\n",
              "\n",
              "  .colab-df-quickchart:hover {\n",
              "    background-color: #E2EBFA;\n",
              "    box-shadow: 0px 1px 2px rgba(60, 64, 67, 0.3), 0px 1px 3px 1px rgba(60, 64, 67, 0.15);\n",
              "    fill: #174EA6;\n",
              "  }\n",
              "\n",
              "  [theme=dark] .colab-df-quickchart {\n",
              "    background-color: #3B4455;\n",
              "    fill: #D2E3FC;\n",
              "  }\n",
              "\n",
              "  [theme=dark] .colab-df-quickchart:hover {\n",
              "    background-color: #434B5C;\n",
              "    box-shadow: 0px 1px 3px 1px rgba(0, 0, 0, 0.15);\n",
              "    filter: drop-shadow(0px 1px 2px rgba(0, 0, 0, 0.3));\n",
              "    fill: #FFFFFF;\n",
              "  }\n",
              "</style>\n",
              "\n",
              "  <script>\n",
              "    async function quickchart(key) {\n",
              "      const charts = await google.colab.kernel.invokeFunction(\n",
              "          'suggestCharts', [key], {});\n",
              "    }\n",
              "    (() => {\n",
              "      let quickchartButtonEl =\n",
              "        document.querySelector('#df-0316aa4a-74c9-4ed1-ad4d-3c6af1c75f21 button');\n",
              "      quickchartButtonEl.style.display =\n",
              "        google.colab.kernel.accessAllowed ? 'block' : 'none';\n",
              "    })();\n",
              "  </script>\n",
              "</div>\n",
              "    </div>\n",
              "  </div>\n"
            ]
          },
          "metadata": {},
          "execution_count": 2
        }
      ]
    },
    {
      "cell_type": "code",
      "source": [
        "data_saber.shape"
      ],
      "metadata": {
        "colab": {
          "base_uri": "https://localhost:8080/"
        },
        "id": "Sob6KVc_-wTM",
        "outputId": "16e18a36-02b7-4653-e499-e71bec879ed2"
      },
      "execution_count": 3,
      "outputs": [
        {
          "output_type": "execute_result",
          "data": {
            "text/plain": [
              "(10000, 52)"
            ]
          },
          "metadata": {},
          "execution_count": 3
        }
      ]
    },
    {
      "cell_type": "code",
      "source": [
        "TARGET = 'PUNT_GLOBAL'"
      ],
      "metadata": {
        "id": "CJ64uVji_i0a"
      },
      "execution_count": 4,
      "outputs": []
    },
    {
      "cell_type": "markdown",
      "source": [
        "# OJO con las variables a usar"
      ],
      "metadata": {
        "id": "1ItJ7BPl_RXq"
      }
    },
    {
      "cell_type": "code",
      "source": [
        "data_saber.columns"
      ],
      "metadata": {
        "colab": {
          "base_uri": "https://localhost:8080/"
        },
        "id": "Ey-gjBWw_cR7",
        "outputId": "2f7cca64-22b1-4c8d-8366-a0550a42e7ab"
      },
      "execution_count": 6,
      "outputs": [
        {
          "output_type": "execute_result",
          "data": {
            "text/plain": [
              "Index(['Unnamed: 0', 'PERIODO', 'ESTU_TIPODOCUMENTO', 'ESTU_CONSECUTIVO',\n",
              "       'COLE_AREA_UBICACION', 'COLE_BILINGUE', 'COLE_CALENDARIO',\n",
              "       'COLE_CARACTER', 'COLE_COD_DANE_ESTABLECIMIENTO', 'COLE_COD_DANE_SEDE',\n",
              "       'COLE_COD_DEPTO_UBICACION', 'COLE_COD_MCPIO_UBICACION',\n",
              "       'COLE_CODIGO_ICFES', 'COLE_DEPTO_UBICACION', 'COLE_GENERO',\n",
              "       'COLE_JORNADA', 'COLE_MCPIO_UBICACION', 'COLE_NATURALEZA',\n",
              "       'COLE_NOMBRE_ESTABLECIMIENTO', 'COLE_NOMBRE_SEDE',\n",
              "       'COLE_SEDE_PRINCIPAL', 'ESTU_COD_DEPTO_PRESENTACION',\n",
              "       'ESTU_COD_MCPIO_PRESENTACION', 'ESTU_COD_RESIDE_DEPTO',\n",
              "       'ESTU_COD_RESIDE_MCPIO', 'ESTU_DEPTO_PRESENTACION', 'ESTU_DEPTO_RESIDE',\n",
              "       'ESTU_ESTADOINVESTIGACION', 'ESTU_ESTUDIANTE', 'ESTU_FECHANACIMIENTO',\n",
              "       'ESTU_GENERO', 'ESTU_MCPIO_PRESENTACION', 'ESTU_MCPIO_RESIDE',\n",
              "       'ESTU_NACIONALIDAD', 'ESTU_PAIS_RESIDE', 'ESTU_PRIVADO_LIBERTAD',\n",
              "       'FAMI_CUARTOSHOGAR', 'FAMI_EDUCACIONMADRE', 'FAMI_EDUCACIONPADRE',\n",
              "       'FAMI_ESTRATOVIVIENDA', 'FAMI_PERSONASHOGAR', 'FAMI_TIENEAUTOMOVIL',\n",
              "       'FAMI_TIENECOMPUTADOR', 'FAMI_TIENEINTERNET', 'FAMI_TIENELAVADORA',\n",
              "       'DESEMP_INGLES', 'PUNT_INGLES', 'PUNT_MATEMATICAS',\n",
              "       'PUNT_SOCIALES_CIUDADANAS', 'PUNT_C_NATURALES', 'PUNT_LECTURA_CRITICA',\n",
              "       'PUNT_GLOBAL'],\n",
              "      dtype='object')"
            ]
          },
          "metadata": {},
          "execution_count": 6
        }
      ]
    },
    {
      "cell_type": "code",
      "source": [
        "data_modelo_1 = data_saber[['PUNT_INGLES', 'PUNT_MATEMATICAS',\n",
        "       'PUNT_SOCIALES_CIUDADANAS', 'PUNT_C_NATURALES', 'PUNT_LECTURA_CRITICA',\n",
        "       'PUNT_GLOBAL']].copy()\n",
        "data_modelo_1 = data_modelo_1.dropna()\n",
        "data_modelo_1.info()"
      ],
      "metadata": {
        "colab": {
          "base_uri": "https://localhost:8080/"
        },
        "id": "tiU9R4RxAASk",
        "outputId": "f38c526c-743a-447d-cf00-87d4cfa53f50"
      },
      "execution_count": 7,
      "outputs": [
        {
          "output_type": "stream",
          "name": "stdout",
          "text": [
            "<class 'pandas.core.frame.DataFrame'>\n",
            "Int64Index: 5619 entries, 1 to 9999\n",
            "Data columns (total 6 columns):\n",
            " #   Column                    Non-Null Count  Dtype  \n",
            "---  ------                    --------------  -----  \n",
            " 0   PUNT_INGLES               5619 non-null   float64\n",
            " 1   PUNT_MATEMATICAS          5619 non-null   float64\n",
            " 2   PUNT_SOCIALES_CIUDADANAS  5619 non-null   float64\n",
            " 3   PUNT_C_NATURALES          5619 non-null   float64\n",
            " 4   PUNT_LECTURA_CRITICA      5619 non-null   float64\n",
            " 5   PUNT_GLOBAL               5619 non-null   float64\n",
            "dtypes: float64(6)\n",
            "memory usage: 307.3 KB\n"
          ]
        }
      ]
    },
    {
      "cell_type": "code",
      "source": [
        "formula_1 = f'{TARGET} ~ PUNT_INGLES + PUNT_MATEMATICAS + PUNT_SOCIALES_CIUDADANAS + PUNT_C_NATURALES + PUNT_LECTURA_CRITICA'\n",
        "model_no_usable = smf.ols(formula=formula_1,data=data_modelo_1).fit()\n",
        "print(model_no_usable.summary())"
      ],
      "metadata": {
        "colab": {
          "base_uri": "https://localhost:8080/"
        },
        "id": "-wHAN8dp_B2L",
        "outputId": "568e645d-00e4-4ae6-f679-b62cf3c48d1d"
      },
      "execution_count": 8,
      "outputs": [
        {
          "output_type": "stream",
          "name": "stdout",
          "text": [
            "                            OLS Regression Results                            \n",
            "==============================================================================\n",
            "Dep. Variable:            PUNT_GLOBAL   R-squared:                       1.000\n",
            "Model:                            OLS   Adj. R-squared:                  1.000\n",
            "Method:                 Least Squares   F-statistic:                 1.676e+07\n",
            "Date:                Wed, 30 Aug 2023   Prob (F-statistic):               0.00\n",
            "Time:                        02:02:43   Log-Likelihood:                -2887.6\n",
            "No. Observations:                5619   AIC:                             5787.\n",
            "Df Residuals:                    5613   BIC:                             5827.\n",
            "Df Model:                           5                                         \n",
            "Covariance Type:            nonrobust                                         \n",
            "============================================================================================\n",
            "                               coef    std err          t      P>|t|      [0.025      0.975]\n",
            "--------------------------------------------------------------------------------------------\n",
            "Intercept                   -0.0566      0.029     -1.925      0.054      -0.114       0.001\n",
            "PUNT_INGLES                  0.3852      0.001    595.691      0.000       0.384       0.386\n",
            "PUNT_MATEMATICAS             1.1548      0.001   1447.516      0.000       1.153       1.156\n",
            "PUNT_SOCIALES_CIUDADANAS     1.1527      0.001   1362.289      0.000       1.151       1.154\n",
            "PUNT_C_NATURALES             1.1532      0.001   1180.723      0.000       1.151       1.155\n",
            "PUNT_LECTURA_CRITICA         1.1551      0.001   1254.332      0.000       1.153       1.157\n",
            "==============================================================================\n",
            "Omnibus:                      402.495   Durbin-Watson:                   1.825\n",
            "Prob(Omnibus):                  0.000   Jarque-Bera (JB):             2126.219\n",
            "Skew:                          -0.011   Prob(JB):                         0.00\n",
            "Kurtosis:                       6.013   Cond. No.                         626.\n",
            "==============================================================================\n",
            "\n",
            "Notes:\n",
            "[1] Standard Errors assume that the covariance matrix of the errors is correctly specified.\n"
          ]
        }
      ]
    },
    {
      "cell_type": "markdown",
      "source": [
        "**Este modelo no aporta por dos razones:**\n",
        "\n",
        "1. La variable de salida está en función de las variables de entrada, especificamente se sabe que el puntaje global es una combinación de los demás puntajes.\n",
        "2. Los puntajes por componente aparecen al tiempo del puntaje global"
      ],
      "metadata": {
        "id": "rijDcFv8BuZ6"
      }
    },
    {
      "cell_type": "markdown",
      "source": [],
      "metadata": {
        "id": "pPVNPYeeCuAb"
      }
    },
    {
      "cell_type": "markdown",
      "source": [
        "# OJo con los códigos"
      ],
      "metadata": {
        "id": "-gu2vj_5C-jp"
      }
    },
    {
      "cell_type": "code",
      "source": [
        "data_saber.columns"
      ],
      "metadata": {
        "colab": {
          "base_uri": "https://localhost:8080/"
        },
        "id": "M6r44N3WDIlB",
        "outputId": "d3bd042f-aa27-4300-a615-2eb641d99169"
      },
      "execution_count": 9,
      "outputs": [
        {
          "output_type": "execute_result",
          "data": {
            "text/plain": [
              "Index(['Unnamed: 0', 'PERIODO', 'ESTU_TIPODOCUMENTO', 'ESTU_CONSECUTIVO',\n",
              "       'COLE_AREA_UBICACION', 'COLE_BILINGUE', 'COLE_CALENDARIO',\n",
              "       'COLE_CARACTER', 'COLE_COD_DANE_ESTABLECIMIENTO', 'COLE_COD_DANE_SEDE',\n",
              "       'COLE_COD_DEPTO_UBICACION', 'COLE_COD_MCPIO_UBICACION',\n",
              "       'COLE_CODIGO_ICFES', 'COLE_DEPTO_UBICACION', 'COLE_GENERO',\n",
              "       'COLE_JORNADA', 'COLE_MCPIO_UBICACION', 'COLE_NATURALEZA',\n",
              "       'COLE_NOMBRE_ESTABLECIMIENTO', 'COLE_NOMBRE_SEDE',\n",
              "       'COLE_SEDE_PRINCIPAL', 'ESTU_COD_DEPTO_PRESENTACION',\n",
              "       'ESTU_COD_MCPIO_PRESENTACION', 'ESTU_COD_RESIDE_DEPTO',\n",
              "       'ESTU_COD_RESIDE_MCPIO', 'ESTU_DEPTO_PRESENTACION', 'ESTU_DEPTO_RESIDE',\n",
              "       'ESTU_ESTADOINVESTIGACION', 'ESTU_ESTUDIANTE', 'ESTU_FECHANACIMIENTO',\n",
              "       'ESTU_GENERO', 'ESTU_MCPIO_PRESENTACION', 'ESTU_MCPIO_RESIDE',\n",
              "       'ESTU_NACIONALIDAD', 'ESTU_PAIS_RESIDE', 'ESTU_PRIVADO_LIBERTAD',\n",
              "       'FAMI_CUARTOSHOGAR', 'FAMI_EDUCACIONMADRE', 'FAMI_EDUCACIONPADRE',\n",
              "       'FAMI_ESTRATOVIVIENDA', 'FAMI_PERSONASHOGAR', 'FAMI_TIENEAUTOMOVIL',\n",
              "       'FAMI_TIENECOMPUTADOR', 'FAMI_TIENEINTERNET', 'FAMI_TIENELAVADORA',\n",
              "       'DESEMP_INGLES', 'PUNT_INGLES', 'PUNT_MATEMATICAS',\n",
              "       'PUNT_SOCIALES_CIUDADANAS', 'PUNT_C_NATURALES', 'PUNT_LECTURA_CRITICA',\n",
              "       'PUNT_GLOBAL'],\n",
              "      dtype='object')"
            ]
          },
          "metadata": {},
          "execution_count": 9
        }
      ]
    },
    {
      "cell_type": "code",
      "source": [
        "data_modelo_2 = data_saber[['ESTU_CONSECUTIVO', 'COLE_COD_DANE_ESTABLECIMIENTO', 'COLE_COD_DANE_SEDE', 'COLE_COD_DEPTO_UBICACION',\n",
        "       'PUNT_GLOBAL']].copy()\n",
        "data_modelo_2 = data_modelo_2.dropna()\n",
        "data_modelo_2.info()"
      ],
      "metadata": {
        "colab": {
          "base_uri": "https://localhost:8080/"
        },
        "id": "sKqn0yv9AfRj",
        "outputId": "05f7e8a2-8e7c-45c8-dba8-4a7a512da930"
      },
      "execution_count": 10,
      "outputs": [
        {
          "output_type": "stream",
          "name": "stdout",
          "text": [
            "<class 'pandas.core.frame.DataFrame'>\n",
            "Int64Index: 5619 entries, 1 to 9999\n",
            "Data columns (total 5 columns):\n",
            " #   Column                         Non-Null Count  Dtype  \n",
            "---  ------                         --------------  -----  \n",
            " 0   ESTU_CONSECUTIVO               5619 non-null   object \n",
            " 1   COLE_COD_DANE_ESTABLECIMIENTO  5619 non-null   float64\n",
            " 2   COLE_COD_DANE_SEDE             5619 non-null   float64\n",
            " 3   COLE_COD_DEPTO_UBICACION       5619 non-null   int64  \n",
            " 4   PUNT_GLOBAL                    5619 non-null   float64\n",
            "dtypes: float64(3), int64(1), object(1)\n",
            "memory usage: 263.4+ KB\n"
          ]
        }
      ]
    },
    {
      "cell_type": "code",
      "source": [
        "formula_2 = f'{TARGET} ~ ESTU_CONSECUTIVO + COLE_COD_DANE_ESTABLECIMIENTO + COLE_COD_DANE_SEDE + COLE_COD_DEPTO_UBICACION'\n",
        "model_no_usable = smf.ols(formula=formula_2,data=data_modelo_2).fit()\n",
        "print(model_no_usable.summary())"
      ],
      "metadata": {
        "id": "x6ncQWcNDTTS"
      },
      "execution_count": null,
      "outputs": []
    },
    {
      "cell_type": "markdown",
      "source": [
        "**Las variables COLE_COD_DANE_ESTABLECIMIENTO + COLE_COD_DANE_SEDE + COLE_COD_DEPTO_UBICACION son variables categóricos y deben ser tratadas de esa forma**\n",
        "\n",
        "**La columna ESTU_CONSECUTIVO no es una variable, es un código de identificación, por lo tanto seguramente es único**"
      ],
      "metadata": {
        "id": "IzBnrq3VD43b"
      }
    },
    {
      "cell_type": "markdown",
      "source": [
        "# Selección de variables de acuerdo al conocimiento del equipo que modela:"
      ],
      "metadata": {
        "id": "UdQHD7FFFb6w"
      }
    },
    {
      "cell_type": "code",
      "source": [
        "list_vars_model = ['Unnamed: 0', 'PERIODO', 'ESTU_TIPODOCUMENTO', 'ESTU_CONSECUTIVO',\n",
        "       'COLE_AREA_UBICACION', 'COLE_BILINGUE', 'COLE_CALENDARIO',\n",
        "       'COLE_CARACTER', 'COLE_COD_DANE_ESTABLECIMIENTO', 'COLE_COD_DANE_SEDE',\n",
        "       'COLE_COD_DEPTO_UBICACION', 'COLE_COD_MCPIO_UBICACION',\n",
        "       'COLE_CODIGO_ICFES', 'COLE_DEPTO_UBICACION', 'COLE_GENERO',\n",
        "       'COLE_JORNADA', 'COLE_MCPIO_UBICACION', 'COLE_NATURALEZA',\n",
        "       'COLE_NOMBRE_ESTABLECIMIENTO', 'COLE_NOMBRE_SEDE',\n",
        "       'COLE_SEDE_PRINCIPAL', 'ESTU_COD_DEPTO_PRESENTACION',\n",
        "       'ESTU_COD_MCPIO_PRESENTACION', 'ESTU_COD_RESIDE_DEPTO',\n",
        "       'ESTU_COD_RESIDE_MCPIO', 'ESTU_DEPTO_PRESENTACION', 'ESTU_DEPTO_RESIDE',\n",
        "       'ESTU_ESTADOINVESTIGACION', 'ESTU_ESTUDIANTE', 'ESTU_FECHANACIMIENTO',\n",
        "       'ESTU_GENERO', 'ESTU_MCPIO_PRESENTACION', 'ESTU_MCPIO_RESIDE',\n",
        "       'ESTU_NACIONALIDAD', 'ESTU_PAIS_RESIDE', 'ESTU_PRIVADO_LIBERTAD',\n",
        "       'FAMI_CUARTOSHOGAR', 'FAMI_EDUCACIONMADRE', 'FAMI_EDUCACIONPADRE',\n",
        "       'FAMI_ESTRATOVIVIENDA', 'FAMI_PERSONASHOGAR', 'FAMI_TIENEAUTOMOVIL',\n",
        "       'FAMI_TIENECOMPUTADOR', 'FAMI_TIENEINTERNET', 'FAMI_TIENELAVADORA',\n",
        "       'DESEMP_INGLES', 'PUNT_INGLES', 'PUNT_MATEMATICAS',\n",
        "       'PUNT_SOCIALES_CIUDADANAS', 'PUNT_C_NATURALES', 'PUNT_LECTURA_CRITICA',\n",
        "       'PUNT_GLOBAL']"
      ],
      "metadata": {
        "id": "HaLfkcx0FzTB"
      },
      "execution_count": 5,
      "outputs": []
    },
    {
      "cell_type": "code",
      "source": [
        "data_saber['COLE_NATURALEZA'].unique()"
      ],
      "metadata": {
        "colab": {
          "base_uri": "https://localhost:8080/"
        },
        "id": "d6nA4Su6GAN4",
        "outputId": "7676a207-1240-4897-c65d-a9f447a12cb6"
      },
      "execution_count": 6,
      "outputs": [
        {
          "output_type": "execute_result",
          "data": {
            "text/plain": [
              "array(['NO OFICIAL', 'OFICIAL'], dtype=object)"
            ]
          },
          "metadata": {},
          "execution_count": 6
        }
      ]
    },
    {
      "cell_type": "markdown",
      "source": [
        "Resultados 'DESEMP_INGLES', 'PUNT_INGLES', 'PUNT_MATEMATICAS',\n",
        "       'PUNT_SOCIALES_CIUDADANAS', 'PUNT_C_NATURALES', 'PUNT_LECTURA_CRITICA',\n",
        "       'PUNT_GLOBAL'"
      ],
      "metadata": {
        "id": "zRT1yG2rGSEj"
      }
    },
    {
      "cell_type": "markdown",
      "source": [
        "No es variable, es constante ESTU_ESTUDIANTE"
      ],
      "metadata": {
        "id": "bEIAVqcaHO-6"
      }
    },
    {
      "cell_type": "markdown",
      "source": [
        "Error al guardar 'Unnamed: 0'"
      ],
      "metadata": {
        "id": "ICfGATeaHd-h"
      }
    },
    {
      "cell_type": "markdown",
      "source": [
        "PERIODO no se utilizará para este análisis"
      ],
      "metadata": {
        "id": "CfQLNZAvHhlp"
      }
    },
    {
      "cell_type": "markdown",
      "source": [
        "Identificador, no es variable ESTU_CONSECUTIVO"
      ],
      "metadata": {
        "id": "Pm-yRfoMHnjI"
      }
    },
    {
      "cell_type": "code",
      "source": [
        "list_vars_model = [ 'ESTU_TIPODOCUMENTO',\n",
        "       'COLE_AREA_UBICACION', 'COLE_BILINGUE', 'COLE_CALENDARIO',\n",
        "       'COLE_CARACTER', 'COLE_COD_DANE_ESTABLECIMIENTO', 'COLE_COD_DANE_SEDE',\n",
        "       'COLE_COD_DEPTO_UBICACION', 'COLE_COD_MCPIO_UBICACION',\n",
        "       'COLE_CODIGO_ICFES', 'COLE_DEPTO_UBICACION', 'COLE_GENERO',\n",
        "       'COLE_JORNADA', 'COLE_MCPIO_UBICACION', 'COLE_NATURALEZA',\n",
        "       'COLE_NOMBRE_ESTABLECIMIENTO', 'COLE_NOMBRE_SEDE',\n",
        "       'COLE_SEDE_PRINCIPAL', 'ESTU_COD_DEPTO_PRESENTACION',\n",
        "       'ESTU_COD_MCPIO_PRESENTACION', 'ESTU_COD_RESIDE_DEPTO',\n",
        "       'ESTU_COD_RESIDE_MCPIO', 'ESTU_DEPTO_PRESENTACION', 'ESTU_DEPTO_RESIDE',\n",
        "       'ESTU_ESTADOINVESTIGACION', 'ESTU_FECHANACIMIENTO',\n",
        "       'ESTU_GENERO', 'ESTU_MCPIO_PRESENTACION', 'ESTU_MCPIO_RESIDE',\n",
        "       'ESTU_NACIONALIDAD', 'ESTU_PAIS_RESIDE', 'ESTU_PRIVADO_LIBERTAD',\n",
        "       'FAMI_CUARTOSHOGAR', 'FAMI_EDUCACIONMADRE', 'FAMI_EDUCACIONPADRE',\n",
        "       'FAMI_ESTRATOVIVIENDA', 'FAMI_PERSONASHOGAR', 'FAMI_TIENEAUTOMOVIL',\n",
        "       'FAMI_TIENECOMPUTADOR', 'FAMI_TIENEINTERNET', 'FAMI_TIENELAVADORA',\n",
        "       ]"
      ],
      "metadata": {
        "id": "NQjMjwIHDgMC"
      },
      "execution_count": 7,
      "outputs": []
    },
    {
      "cell_type": "code",
      "source": [
        "list_cols = list_vars_model + [TARGET]\n",
        "data_modelo_3 = data_saber[list_cols].dropna().copy()\n",
        "data_modelo_3.info()"
      ],
      "metadata": {
        "colab": {
          "base_uri": "https://localhost:8080/"
        },
        "id": "Iqa6INvuH0RJ",
        "outputId": "ec474e0b-01be-4bc2-f5eb-a59c8e246b84"
      },
      "execution_count": 8,
      "outputs": [
        {
          "output_type": "stream",
          "name": "stdout",
          "text": [
            "<class 'pandas.core.frame.DataFrame'>\n",
            "Int64Index: 4611 entries, 1 to 9999\n",
            "Data columns (total 42 columns):\n",
            " #   Column                         Non-Null Count  Dtype  \n",
            "---  ------                         --------------  -----  \n",
            " 0   ESTU_TIPODOCUMENTO             4611 non-null   object \n",
            " 1   COLE_AREA_UBICACION            4611 non-null   object \n",
            " 2   COLE_BILINGUE                  4611 non-null   object \n",
            " 3   COLE_CALENDARIO                4611 non-null   object \n",
            " 4   COLE_CARACTER                  4611 non-null   object \n",
            " 5   COLE_COD_DANE_ESTABLECIMIENTO  4611 non-null   float64\n",
            " 6   COLE_COD_DANE_SEDE             4611 non-null   float64\n",
            " 7   COLE_COD_DEPTO_UBICACION       4611 non-null   int64  \n",
            " 8   COLE_COD_MCPIO_UBICACION       4611 non-null   int64  \n",
            " 9   COLE_CODIGO_ICFES              4611 non-null   float64\n",
            " 10  COLE_DEPTO_UBICACION           4611 non-null   object \n",
            " 11  COLE_GENERO                    4611 non-null   object \n",
            " 12  COLE_JORNADA                   4611 non-null   object \n",
            " 13  COLE_MCPIO_UBICACION           4611 non-null   object \n",
            " 14  COLE_NATURALEZA                4611 non-null   object \n",
            " 15  COLE_NOMBRE_ESTABLECIMIENTO    4611 non-null   object \n",
            " 16  COLE_NOMBRE_SEDE               4611 non-null   object \n",
            " 17  COLE_SEDE_PRINCIPAL            4611 non-null   object \n",
            " 18  ESTU_COD_DEPTO_PRESENTACION    4611 non-null   int64  \n",
            " 19  ESTU_COD_MCPIO_PRESENTACION    4611 non-null   int64  \n",
            " 20  ESTU_COD_RESIDE_DEPTO          4611 non-null   float64\n",
            " 21  ESTU_COD_RESIDE_MCPIO          4611 non-null   float64\n",
            " 22  ESTU_DEPTO_PRESENTACION        4611 non-null   object \n",
            " 23  ESTU_DEPTO_RESIDE              4611 non-null   object \n",
            " 24  ESTU_ESTADOINVESTIGACION       4611 non-null   object \n",
            " 25  ESTU_FECHANACIMIENTO           4611 non-null   object \n",
            " 26  ESTU_GENERO                    4611 non-null   object \n",
            " 27  ESTU_MCPIO_PRESENTACION        4611 non-null   object \n",
            " 28  ESTU_MCPIO_RESIDE              4611 non-null   object \n",
            " 29  ESTU_NACIONALIDAD              4611 non-null   object \n",
            " 30  ESTU_PAIS_RESIDE               4611 non-null   object \n",
            " 31  ESTU_PRIVADO_LIBERTAD          4611 non-null   object \n",
            " 32  FAMI_CUARTOSHOGAR              4611 non-null   object \n",
            " 33  FAMI_EDUCACIONMADRE            4611 non-null   object \n",
            " 34  FAMI_EDUCACIONPADRE            4611 non-null   object \n",
            " 35  FAMI_ESTRATOVIVIENDA           4611 non-null   object \n",
            " 36  FAMI_PERSONASHOGAR             4611 non-null   object \n",
            " 37  FAMI_TIENEAUTOMOVIL            4611 non-null   object \n",
            " 38  FAMI_TIENECOMPUTADOR           4611 non-null   object \n",
            " 39  FAMI_TIENEINTERNET             4611 non-null   object \n",
            " 40  FAMI_TIENELAVADORA             4611 non-null   object \n",
            " 41  PUNT_GLOBAL                    4611 non-null   float64\n",
            "dtypes: float64(6), int64(4), object(32)\n",
            "memory usage: 1.5+ MB\n"
          ]
        }
      ]
    },
    {
      "cell_type": "code",
      "source": [
        "data_modelo_3['COLE_AREA_UBICACION'].unique()"
      ],
      "metadata": {
        "colab": {
          "base_uri": "https://localhost:8080/"
        },
        "id": "goeJz7BdKz3Z",
        "outputId": "562609b3-3c4d-4dfc-ccaa-cd7cc3fda347"
      },
      "execution_count": 9,
      "outputs": [
        {
          "output_type": "execute_result",
          "data": {
            "text/plain": [
              "array(['RURAL', 'URBANO'], dtype=object)"
            ]
          },
          "metadata": {},
          "execution_count": 9
        }
      ]
    },
    {
      "cell_type": "markdown",
      "source": [
        "## No realizar el análisis de este modo porque variables con mayor número de categorias pueden dar un r2 más alto sin ser buenas predictoras"
      ],
      "metadata": {
        "id": "yAbXuzI9JS8P"
      }
    },
    {
      "cell_type": "code",
      "source": [
        "data_modelo_3[list_vars_model] = data_modelo_3[list_vars_model].astype('str')\n",
        "data_modelo_3.info()"
      ],
      "metadata": {
        "colab": {
          "base_uri": "https://localhost:8080/"
        },
        "id": "yvoYhGJFIA-b",
        "outputId": "0eca2fb7-71fd-456a-990e-4079f4f4c9e7"
      },
      "execution_count": 10,
      "outputs": [
        {
          "output_type": "stream",
          "name": "stdout",
          "text": [
            "<class 'pandas.core.frame.DataFrame'>\n",
            "Int64Index: 4611 entries, 1 to 9999\n",
            "Data columns (total 42 columns):\n",
            " #   Column                         Non-Null Count  Dtype  \n",
            "---  ------                         --------------  -----  \n",
            " 0   ESTU_TIPODOCUMENTO             4611 non-null   object \n",
            " 1   COLE_AREA_UBICACION            4611 non-null   object \n",
            " 2   COLE_BILINGUE                  4611 non-null   object \n",
            " 3   COLE_CALENDARIO                4611 non-null   object \n",
            " 4   COLE_CARACTER                  4611 non-null   object \n",
            " 5   COLE_COD_DANE_ESTABLECIMIENTO  4611 non-null   object \n",
            " 6   COLE_COD_DANE_SEDE             4611 non-null   object \n",
            " 7   COLE_COD_DEPTO_UBICACION       4611 non-null   object \n",
            " 8   COLE_COD_MCPIO_UBICACION       4611 non-null   object \n",
            " 9   COLE_CODIGO_ICFES              4611 non-null   object \n",
            " 10  COLE_DEPTO_UBICACION           4611 non-null   object \n",
            " 11  COLE_GENERO                    4611 non-null   object \n",
            " 12  COLE_JORNADA                   4611 non-null   object \n",
            " 13  COLE_MCPIO_UBICACION           4611 non-null   object \n",
            " 14  COLE_NATURALEZA                4611 non-null   object \n",
            " 15  COLE_NOMBRE_ESTABLECIMIENTO    4611 non-null   object \n",
            " 16  COLE_NOMBRE_SEDE               4611 non-null   object \n",
            " 17  COLE_SEDE_PRINCIPAL            4611 non-null   object \n",
            " 18  ESTU_COD_DEPTO_PRESENTACION    4611 non-null   object \n",
            " 19  ESTU_COD_MCPIO_PRESENTACION    4611 non-null   object \n",
            " 20  ESTU_COD_RESIDE_DEPTO          4611 non-null   object \n",
            " 21  ESTU_COD_RESIDE_MCPIO          4611 non-null   object \n",
            " 22  ESTU_DEPTO_PRESENTACION        4611 non-null   object \n",
            " 23  ESTU_DEPTO_RESIDE              4611 non-null   object \n",
            " 24  ESTU_ESTADOINVESTIGACION       4611 non-null   object \n",
            " 25  ESTU_FECHANACIMIENTO           4611 non-null   object \n",
            " 26  ESTU_GENERO                    4611 non-null   object \n",
            " 27  ESTU_MCPIO_PRESENTACION        4611 non-null   object \n",
            " 28  ESTU_MCPIO_RESIDE              4611 non-null   object \n",
            " 29  ESTU_NACIONALIDAD              4611 non-null   object \n",
            " 30  ESTU_PAIS_RESIDE               4611 non-null   object \n",
            " 31  ESTU_PRIVADO_LIBERTAD          4611 non-null   object \n",
            " 32  FAMI_CUARTOSHOGAR              4611 non-null   object \n",
            " 33  FAMI_EDUCACIONMADRE            4611 non-null   object \n",
            " 34  FAMI_EDUCACIONPADRE            4611 non-null   object \n",
            " 35  FAMI_ESTRATOVIVIENDA           4611 non-null   object \n",
            " 36  FAMI_PERSONASHOGAR             4611 non-null   object \n",
            " 37  FAMI_TIENEAUTOMOVIL            4611 non-null   object \n",
            " 38  FAMI_TIENECOMPUTADOR           4611 non-null   object \n",
            " 39  FAMI_TIENEINTERNET             4611 non-null   object \n",
            " 40  FAMI_TIENELAVADORA             4611 non-null   object \n",
            " 41  PUNT_GLOBAL                    4611 non-null   float64\n",
            "dtypes: float64(1), object(41)\n",
            "memory usage: 1.5+ MB\n"
          ]
        }
      ]
    },
    {
      "cell_type": "code",
      "source": [
        "for col in list_vars_model:\n",
        "  model_col = smf.ols(formula=f'{TARGET}~{col}',data=data_modelo_3).fit()\n",
        "  print(f'Modelo con sólo la variable {col} tiene un R2 de : {round(model_col.rsquared, 3)}')"
      ],
      "metadata": {
        "colab": {
          "base_uri": "https://localhost:8080/"
        },
        "id": "ZkbLjf9PJoUq",
        "outputId": "1febfa20-7fa6-4501-add9-26110188d2ff"
      },
      "execution_count": 11,
      "outputs": [
        {
          "output_type": "stream",
          "name": "stdout",
          "text": [
            "Modelo con sólo la variable ESTU_TIPODOCUMENTO tiene un R2 de : 0.057\n",
            "Modelo con sólo la variable COLE_AREA_UBICACION tiene un R2 de : 0.01\n",
            "Modelo con sólo la variable COLE_BILINGUE tiene un R2 de : 0.021\n",
            "Modelo con sólo la variable COLE_CALENDARIO tiene un R2 de : 0.057\n",
            "Modelo con sólo la variable COLE_CARACTER tiene un R2 de : 0.007\n",
            "Modelo con sólo la variable COLE_COD_DANE_ESTABLECIMIENTO tiene un R2 de : 0.798\n",
            "Modelo con sólo la variable COLE_COD_DANE_SEDE tiene un R2 de : 0.803\n",
            "Modelo con sólo la variable COLE_COD_DEPTO_UBICACION tiene un R2 de : 0.073\n",
            "Modelo con sólo la variable COLE_COD_MCPIO_UBICACION tiene un R2 de : 0.259\n",
            "Modelo con sólo la variable COLE_CODIGO_ICFES tiene un R2 de : 0.865\n",
            "Modelo con sólo la variable COLE_DEPTO_UBICACION tiene un R2 de : 0.074\n",
            "Modelo con sólo la variable COLE_GENERO tiene un R2 de : 0.023\n",
            "Modelo con sólo la variable COLE_JORNADA tiene un R2 de : 0.141\n",
            "Modelo con sólo la variable COLE_MCPIO_UBICACION tiene un R2 de : 0.27\n",
            "Modelo con sólo la variable COLE_NATURALEZA tiene un R2 de : 0.062\n",
            "Modelo con sólo la variable COLE_NOMBRE_ESTABLECIMIENTO tiene un R2 de : 0.777\n",
            "Modelo con sólo la variable COLE_NOMBRE_SEDE tiene un R2 de : 0.8\n",
            "Modelo con sólo la variable COLE_SEDE_PRINCIPAL tiene un R2 de : 0.004\n",
            "Modelo con sólo la variable ESTU_COD_DEPTO_PRESENTACION tiene un R2 de : 0.078\n",
            "Modelo con sólo la variable ESTU_COD_MCPIO_PRESENTACION tiene un R2 de : 0.19\n",
            "Modelo con sólo la variable ESTU_COD_RESIDE_DEPTO tiene un R2 de : 0.077\n",
            "Modelo con sólo la variable ESTU_COD_RESIDE_MCPIO tiene un R2 de : 0.257\n",
            "Modelo con sólo la variable ESTU_DEPTO_PRESENTACION tiene un R2 de : 0.078\n",
            "Modelo con sólo la variable ESTU_DEPTO_RESIDE tiene un R2 de : 0.077\n",
            "Modelo con sólo la variable ESTU_ESTADOINVESTIGACION tiene un R2 de : 0.001\n",
            "Modelo con sólo la variable ESTU_FECHANACIMIENTO tiene un R2 de : 0.586\n",
            "Modelo con sólo la variable ESTU_GENERO tiene un R2 de : 0.006\n",
            "Modelo con sólo la variable ESTU_MCPIO_PRESENTACION tiene un R2 de : 0.187\n",
            "Modelo con sólo la variable ESTU_MCPIO_RESIDE tiene un R2 de : 0.251\n",
            "Modelo con sólo la variable ESTU_NACIONALIDAD tiene un R2 de : 0.002\n",
            "Modelo con sólo la variable ESTU_PAIS_RESIDE tiene un R2 de : 0.002\n",
            "Modelo con sólo la variable ESTU_PRIVADO_LIBERTAD tiene un R2 de : 0.0\n",
            "Modelo con sólo la variable FAMI_CUARTOSHOGAR tiene un R2 de : 0.014\n",
            "Modelo con sólo la variable FAMI_EDUCACIONMADRE tiene un R2 de : 0.172\n",
            "Modelo con sólo la variable FAMI_EDUCACIONPADRE tiene un R2 de : 0.158\n",
            "Modelo con sólo la variable FAMI_ESTRATOVIVIENDA tiene un R2 de : 0.127\n",
            "Modelo con sólo la variable FAMI_PERSONASHOGAR tiene un R2 de : 0.03\n",
            "Modelo con sólo la variable FAMI_TIENEAUTOMOVIL tiene un R2 de : 0.075\n",
            "Modelo con sólo la variable FAMI_TIENECOMPUTADOR tiene un R2 de : 0.09\n",
            "Modelo con sólo la variable FAMI_TIENEINTERNET tiene un R2 de : 0.075\n",
            "Modelo con sólo la variable FAMI_TIENELAVADORA tiene un R2 de : 0.032\n"
          ]
        }
      ]
    },
    {
      "cell_type": "code",
      "source": [],
      "metadata": {
        "id": "phQOG6_9LGEI"
      },
      "execution_count": null,
      "outputs": []
    }
  ]
}